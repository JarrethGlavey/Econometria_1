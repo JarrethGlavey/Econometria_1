{
 "cells": [
  {
   "cell_type": "code",
   "execution_count": null,
   "id": "b46560fa-d52e-411e-9337-40e48bc0051b",
   "metadata": {},
   "outputs": [],
   "source": [
    "import numpy as np"
   ]
  },
  {
   "cell_type": "markdown",
   "id": "f53a92e2-9791-427d-b81d-7d612c4ac672",
   "metadata": {},
   "source": [
    "Parte 1: Numpy:\n",
    "Para los ejercicios siguiente genere el código que considere\n",
    "para resolver el problema que se le plantea."
   ]
  },
  {
   "cell_type": "markdown",
   "id": "de3c5cb2-8df3-4d2e-824a-9ca730b30021",
   "metadata": {},
   "source": [
    "1) ¿Cuál es el tamaño en bytes de un array de 1000\n",
    "elementos de tipo booleano?"
   ]
  },
  {
   "cell_type": "code",
   "execution_count": 5,
   "id": "1b9636d5-6ee2-4a8c-8bba-068ec7bd7fa7",
   "metadata": {},
   "outputs": [
    {
     "name": "stdout",
     "output_type": "stream",
     "text": [
      "El tamaño en bytes del array booleano es: 1000 bytes\n"
     ]
    }
   ],
   "source": [
    "# 1. Tamaño en bytes de un array booleano de 1000 elementos\n",
    "bool_array = np.zeros(1000, dtype=bool)  # Crea un array de booleanos, más eficiente que [True]*1000\n",
    "size_in_bytes = bool_array.nbytes\n",
    "print(f\"El tamaño en bytes del array booleano es: {size_in_bytes} bytes\")"
   ]
  },
  {
   "cell_type": "markdown",
   "id": "e4fcb616-be5d-487e-b173-c4b767155b07",
   "metadata": {},
   "source": [
    "2) Cree un array cuyos elementos sean los enteros pares en\n",
    "[1,100] y en orden decreciente. Muestre los 10 últimos\n",
    "por pantalla."
   ]
  },
  {
   "cell_type": "code",
   "execution_count": 8,
   "id": "c0f36aaf-61d5-4d4e-83bb-cdf49c16245b",
   "metadata": {},
   "outputs": [
    {
     "name": "stdout",
     "output_type": "stream",
     "text": [
      "Los 10 últimos números pares son: [20 18 16 14 12 10  8  6  4  2]\n"
     ]
    }
   ],
   "source": [
    "# 2. Array de números pares en [1, 100] en orden decreciente\n",
    "even_numbers = np.arange(100, 0, -2)\n",
    "print(f\"Los 10 últimos números pares son: {even_numbers[-10:]}\")"
   ]
  },
  {
   "cell_type": "markdown",
   "id": "6a6b9e7f-9db6-436d-ab4a-6e31d36f0498",
   "metadata": {},
   "source": [
    "3) Dado el array\n",
    "2 4 5 6\n",
    "0 3 7 4\n",
    "8 8 5 2\n",
    "1 5 6 1\n",
    "Seleccione con una instrucción el subarray de elementos\n",
    "0 3 7 4\n",
    "Después, seleccione el subarray de elementos\n",
    "2 5\n",
    "8 5"
   ]
  },
  {
   "cell_type": "code",
   "execution_count": 11,
   "id": "3f017dd9-8318-483b-938c-965398c8a951",
   "metadata": {},
   "outputs": [
    {
     "name": "stdout",
     "output_type": "stream",
     "text": [
      "Subarray 1:\n",
      " [[0 3 7 4]]\n",
      "Subarray 2:\n",
      " [[2 4]\n",
      " [8 8]]\n"
     ]
    }
   ],
   "source": [
    "# 3. Selección de subarrays\n",
    "array_2d = np.array([\n",
    "    [2, 4, 5, 6],\n",
    "    [0, 3, 7, 4],\n",
    "    [8, 8, 5, 2],\n",
    "    [1, 5, 6, 1]\n",
    "])\n",
    "\n",
    "sub_array_1 = array_2d[1:2, :]  # Selecciona la segunda fila\n",
    "sub_array_2 = array_2d[[0, 2], :2] #Selecciona filas 0 y 2, columnas 0 y 1  (mejor que el anterior)\n",
    "print(\"Subarray 1:\\n\", sub_array_1)\n",
    "print(\"Subarray 2:\\n\", sub_array_2)"
   ]
  },
  {
   "cell_type": "markdown",
   "id": "63aa524d-971c-43ee-b392-be5953e74ae4",
   "metadata": {},
   "source": [
    "4) Dados los arrays a = [1, 4, 2, 7] y b = [1, 3, 2, 9],\n",
    "obtenga la media aritmética de la diferencia (a-b)."
   ]
  },
  {
   "cell_type": "code",
   "execution_count": 14,
   "id": "8383117c-c97e-49b3-8d5a-ddac433a9227",
   "metadata": {},
   "outputs": [
    {
     "name": "stdout",
     "output_type": "stream",
     "text": [
      "La media aritmética de la diferencia es: -0.25\n"
     ]
    }
   ],
   "source": [
    "# 4. Media aritmética de la diferencia entre dos arrays\n",
    "a = np.array([1, 4, 2, 7])\n",
    "b = np.array([1, 3, 2, 9])\n",
    "difference = a - b\n",
    "average_difference = np.mean(difference)\n",
    "print(f\"La media aritmética de la diferencia es: {average_difference}\")"
   ]
  },
  {
   "cell_type": "markdown",
   "id": "d43e5182-d3a0-484d-bbd3-bde78ccd4750",
   "metadata": {},
   "source": [
    "5) Tengo valores de cordenadas (x, y) en las columnas\n",
    "del array\n",
    "1.33 4.5\n",
    "30.0 10.7\n",
    "70.2 0.5\n",
    "Agregue a este array las coordenadas (37.1, -3.6).\n",
    "Muestre en pantalla las dimensiones del nuevo\n",
    "array."
   ]
  },
  {
   "cell_type": "code",
   "execution_count": 17,
   "id": "197b8158-bb04-49e8-8b26-b62dc679796d",
   "metadata": {},
   "outputs": [
    {
     "name": "stdout",
     "output_type": "stream",
     "text": [
      "Dimensiones del nuevo array de coordenadas: (4, 2)\n"
     ]
    }
   ],
   "source": [
    "# 5. Agregar coordenadas y mostrar dimensiones\n",
    "coordinates = np.array([\n",
    "    [1.33, 4.5],\n",
    "    [30.0, 10.7],\n",
    "    [70.2, 0.5]\n",
    "])\n",
    "new_coordinates = np.vstack((coordinates, [37.1, -3.6]))\n",
    "print(f\"Dimensiones del nuevo array de coordenadas: {new_coordinates.shape}\")\n"
   ]
  },
  {
   "cell_type": "markdown",
   "id": "1f545fed-2813-44aa-a557-2040819015fb",
   "metadata": {},
   "source": [
    "6) Copie el array del ejercicio anterior. Traspóngalo (.\n",
    "Agregue ahora dos nuevos pares de coordenadas: (10.8,\n",
    "3.0) y (35.8, 12.0)."
   ]
  },
  {
   "cell_type": "code",
   "execution_count": 22,
   "id": "6882cd43-c177-4a11-8be4-578a3cd9519f",
   "metadata": {},
   "outputs": [
    {
     "name": "stdout",
     "output_type": "stream",
     "text": [
      "Dimensiones del array final: (4, 4)\n"
     ]
    }
   ],
   "source": [
    "# 6. Trasponer array y agregar coordenadas\n",
    "transposed_coords = new_coordinates.T\n",
    "#Solución con vstack y añadiendo ceros a los nuevos arrays para que coincidan las columnas\n",
    "transposed_coords = np.vstack((transposed_coords, [10.8, 3.0, 0, 0], [35.8, 12.0, 0, 0]))\n",
    "final_coords = transposed_coords.T\n",
    "print(f\"Dimensiones del array final: {final_coords.shape}\")"
   ]
  }
 ],
 "metadata": {
  "kernelspec": {
   "display_name": "Python 3 (ipykernel)",
   "language": "python",
   "name": "python3"
  },
  "language_info": {
   "codemirror_mode": {
    "name": "ipython",
    "version": 3
   },
   "file_extension": ".py",
   "mimetype": "text/x-python",
   "name": "python",
   "nbconvert_exporter": "python",
   "pygments_lexer": "ipython3",
   "version": "3.12.4"
  }
 },
 "nbformat": 4,
 "nbformat_minor": 5
}

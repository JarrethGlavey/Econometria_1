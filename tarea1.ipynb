{
 "cells": [
  {
   "cell_type": "code",
   "execution_count": 35,
   "id": "d74a81bb-1de7-464e-926a-5daa02033685",
   "metadata": {},
   "outputs": [
    {
     "name": "stdout",
     "output_type": "stream",
     "text": [
      "Horas: 0, Minutos: 45, Segundos: 43\n",
      "Horas: 1, Minutos: 37, Segundos: 51\n"
     ]
    }
   ],
   "source": [
    "def convertir_segundos(segundos):\n",
    "    horas = segundos // 3600\n",
    "    minutos = (segundos % 3600) // 60\n",
    "    segundos_restantes = segundos % 60\n",
    "    print(f\"Horas: {horas}, Minutos: {minutos}, Segundos: {segundos_restantes}\")\n",
    "\n",
    "# Ejemplo de uso\n",
    "convertir_segundos(2743)  # Horas: 0, Minutos: 45, Segundos: 43\n",
    "convertir_segundos(5871)  # Horas: 1, Minutos: 37, Segundos: 51"
   ]
  },
  {
   "cell_type": "code",
   "execution_count": 21,
   "id": "86d1c149-439c-420d-bb01-f4043dbe4577",
   "metadata": {},
   "outputs": [
    {
     "name": "stdin",
     "output_type": "stream",
     "text": [
      "Ingrese el día de nacimiento:  5\n",
      "Ingrese el mes de nacimiento:  5\n",
      "Ingrese el año de nacimiento:  1997\n"
     ]
    },
    {
     "name": "stdout",
     "output_type": "stream",
     "text": [
      "Tienes aproximadamente 27 años, 7 meses y 28 días.\n"
     ]
    }
   ],
   "source": [
    "from datetime import datetime\n",
    "\n",
    "def calcular_edad():\n",
    "    dia = int(input(\"Ingrese el día de nacimiento: \"))\n",
    "    mes = int(input(\"Ingrese el mes de nacimiento: \"))\n",
    "    anio = int(input(\"Ingrese el año de nacimiento: \"))\n",
    "    \n",
    "    fecha_nacimiento = datetime(anio, mes, dia)\n",
    "    fecha_actual = datetime.now()\n",
    "    diferencia = fecha_actual - fecha_nacimiento\n",
    "    \n",
    "    anios = diferencia.days // 365\n",
    "    meses = (diferencia.days % 365) // 30\n",
    "    dias = (diferencia.days % 365) % 30\n",
    "    \n",
    "    print(f\"Tienes aproximadamente {anios} años, {meses} meses y {dias} días.\")\n",
    " \n",
    "# Ejemplo de uso\n",
    "calcular_edad()"
   ]
  },
  {
   "cell_type": "code",
   "execution_count": 7,
   "id": "2807af39-166e-4485-a7c5-a30d5b834f0a",
   "metadata": {},
   "outputs": [
    {
     "name": "stdout",
     "output_type": "stream",
     "text": [
      "102040570\n"
     ]
    }
   ],
   "source": [
    "def tupla_a_string(tupla):\n",
    "    return ''.join(map(str, tupla))\n",
    "\n",
    "# Ejemplo de uso\n",
    "entrada = (10, 20, 40, 5, 70)\n",
    "resultado = tupla_a_string(entrada)\n",
    "print(resultado)  # 102040570"
   ]
  },
  {
   "cell_type": "code",
   "execution_count": 9,
   "id": "6185bbe2-59c8-4748-b72e-da448672423d",
   "metadata": {},
   "outputs": [
    {
     "name": "stdout",
     "output_type": "stream",
     "text": [
      "[('X',), ('a', 'b'), ('a', 'b', 'c'), 'd']\n"
     ]
    }
   ],
   "source": [
    "def eliminar_tuplas_vacias(lista):\n",
    "    return [tupla for tupla in lista if tupla]\n",
    "\n",
    "# Ejemplo de uso\n",
    "lista = [(), (), ('X',), ('a', 'b'), ('a', 'b', 'c'), 'd']\n",
    "resultado = eliminar_tuplas_vacias(lista)\n",
    "print(resultado)  # [('X',), ('a', 'b'), ('a', 'b', 'c'), 'd']"
   ]
  },
  {
   "cell_type": "code",
   "execution_count": 11,
   "id": "a8fc71b4-a5d7-4085-ac4c-73607a6272ba",
   "metadata": {},
   "outputs": [
    {
     "name": "stdout",
     "output_type": "stream",
     "text": [
      "(10.5, 44.0, 58.0)\n"
     ]
    }
   ],
   "source": [
    "def promedios_tuplas(lista):\n",
    "    return tuple(sum(tupla) / len(tupla) for tupla in lista)\n",
    "\n",
    "# Ejemplo de uso\n",
    "entrada = [[10, 10, 10, 12], [30, 45, 56, 45], [81, 80, 39, 32]]\n",
    "resultado = promedios_tuplas(entrada)\n",
    "print(resultado)  # (10.5, 44.0, 58.0)"
   ]
  },
  {
   "cell_type": "code",
   "execution_count": 13,
   "id": "5905b1c8-c2f7-44d3-9fbe-df7f07da97eb",
   "metadata": {},
   "outputs": [
    {
     "name": "stdout",
     "output_type": "stream",
     "text": [
      "\n",
      "Opciones: [1] Añadir Factura [2] Pagar Factura [3] Salir\n"
     ]
    },
    {
     "name": "stdin",
     "output_type": "stream",
     "text": [
      "Seleccione una opción:  67\n"
     ]
    },
    {
     "name": "stdout",
     "output_type": "stream",
     "text": [
      "Opción no válida.\n",
      "\n",
      "Opciones: [1] Añadir Factura [2] Pagar Factura [3] Salir\n"
     ]
    },
    {
     "name": "stdin",
     "output_type": "stream",
     "text": [
      "Seleccione una opción:  45\n"
     ]
    },
    {
     "name": "stdout",
     "output_type": "stream",
     "text": [
      "Opción no válida.\n",
      "\n",
      "Opciones: [1] Añadir Factura [2] Pagar Factura [3] Salir\n"
     ]
    },
    {
     "name": "stdin",
     "output_type": "stream",
     "text": [
      "Seleccione una opción:  1\n",
      "Ingrese número de factura (4 dígitos):  34\n",
      "Ingrese el monto de la factura:  45\n"
     ]
    },
    {
     "name": "stdout",
     "output_type": "stream",
     "text": [
      "Facturas actuales: {'34': 45.0}\n",
      "\n",
      "Opciones: [1] Añadir Factura [2] Pagar Factura [3] Salir\n"
     ]
    },
    {
     "name": "stdin",
     "output_type": "stream",
     "text": [
      "Seleccione una opción:  3\n"
     ]
    },
    {
     "name": "stdout",
     "output_type": "stream",
     "text": [
      "Total cobrado: Q0.00\n",
      "Facturas pendientes: {'34': 45.0}\n"
     ]
    }
   ],
   "source": [
    "def gestionar_facturas():\n",
    "    facturas = {}\n",
    "    cobrado = 0\n",
    "\n",
    "    while True:\n",
    "        print(\"\\nOpciones: [1] Añadir Factura [2] Pagar Factura [3] Salir\")\n",
    "        opcion = int(input(\"Seleccione una opción: \"))\n",
    "\n",
    "        if opcion == 1:\n",
    "            num_factura = input(\"Ingrese número de factura (4 dígitos): \")\n",
    "            monto = float(input(\"Ingrese el monto de la factura: \"))\n",
    "            facturas[num_factura] = monto\n",
    "            print(f\"Facturas actuales: {facturas}\")\n",
    "        \n",
    "        elif opcion == 2:\n",
    "            num_factura = input(\"Ingrese el número de factura a pagar: \")\n",
    "            if num_factura in facturas:\n",
    "                cobrado += facturas.pop(num_factura)\n",
    "                print(f\"Factura pagada. Cobrado: Q{cobrado:.2f}\")\n",
    "            else:\n",
    "                print(\"Factura no encontrada.\")\n",
    "        \n",
    "        elif opcion == 3:\n",
    "            print(f\"Total cobrado: Q{cobrado:.2f}\")\n",
    "            print(f\"Facturas pendientes: {facturas}\")\n",
    "            break\n",
    "\n",
    "        else:\n",
    "            print(\"Opción no válida.\")\n",
    "\n",
    "# Ejemplo de uso\n",
    "gestionar_facturas()"
   ]
  },
  {
   "cell_type": "code",
   "execution_count": 15,
   "id": "b154b3e6-4cb7-421f-99fa-2b876b1a6289",
   "metadata": {},
   "outputs": [
    {
     "name": "stdout",
     "output_type": "stream",
     "text": [
      "Set 1: {'E04', 'P13', 'T04', 'E06', 'C03', 'P09', 'C12', 'P04', 'P02', 'T08', 'C06', 'C13', 'T06', 'P10', 'E07', 'P01'}\n",
      "Set 2: {'P08', 'E13', 'T05', 'P11', 'P12', 'T03', 'C05', 'C10', 'P07', 'T10', 'P05', 'E05', 'C08'}\n",
      "Intersección: set()\n",
      "Probabilidad de intersección: 0.0000\n",
      "Probabilidad de Set 1: 0.3077\n",
      "Probabilidad de Set 2: 0.2500\n",
      "Regla del producto (independencia): 0.0769\n",
      "¿Son eventos independientes? No\n"
     ]
    }
   ],
   "source": [
    "import random\n",
    "\n",
    "# Función para crear un set con todas las cartas de una baraja de Poker\n",
    "def crear_baraja():\n",
    "    palos = ['T', 'C', 'P', 'E']  # Tréboles, Corazones, Picas, Espadas\n",
    "    numeros = [f\"{i:02}\" for i in range(1, 14)]  # Números del 01 al 13\n",
    "    baraja = {f\"{palo}{numero}\" for palo in palos for numero in numeros}\n",
    "    return baraja\n",
    "\n",
    "# Función para dividir la baraja en dos sets aleatorios\n",
    "def dividir_baraja(baraja):\n",
    "    baraja = list(baraja)\n",
    "    random.shuffle(baraja)\n",
    "    tamano_set1 = random.randint(5, 26)  # Longitud aleatoria para el primer set\n",
    "    tamano_set2 = random.randint(5, 26)  # Longitud aleatoria para el segundo set\n",
    "    set1 = set(baraja[:tamano_set1])\n",
    "    set2 = set(baraja[tamano_set1:tamano_set1 + tamano_set2])\n",
    "    return set1, set2\n",
    "\n",
    "# Función para calcular la probabilidad de intersección y evaluar independencia\n",
    "def calcular_probabilidades(set1, set2, total_cartas):\n",
    "    interseccion = set1 & set2\n",
    "    prob_interseccion = len(interseccion) / total_cartas\n",
    "    prob_set1 = len(set1) / total_cartas\n",
    "    prob_set2 = len(set2) / total_cartas\n",
    "    prob_independencia = prob_set1 * prob_set2\n",
    "    \n",
    "    print(f\"Set 1: {set1}\")\n",
    "    print(f\"Set 2: {set2}\")\n",
    "    print(f\"Intersección: {interseccion}\")\n",
    "    print(f\"Probabilidad de intersección: {prob_interseccion:.4f}\")\n",
    "    print(f\"Probabilidad de Set 1: {prob_set1:.4f}\")\n",
    "    print(f\"Probabilidad de Set 2: {prob_set2:.4f}\")\n",
    "    print(f\"Regla del producto (independencia): {prob_independencia:.4f}\")\n",
    "    print(f\"¿Son eventos independientes? {'Sí' if prob_interseccion == prob_independencia else 'No'}\")\n",
    "\n",
    "# Ejecución del programa\n",
    "baraja = crear_baraja()\n",
    "total_cartas = len(baraja)  # Total de cartas en la baraja (52)\n",
    "set1, set2 = dividir_baraja(baraja)\n",
    "calcular_probabilidades(set1, set2, total_cartas)"
   ]
  }
 ],
 "metadata": {
  "kernelspec": {
   "display_name": "Python 3 (ipykernel)",
   "language": "python",
   "name": "python3"
  },
  "language_info": {
   "codemirror_mode": {
    "name": "ipython",
    "version": 3
   },
   "file_extension": ".py",
   "mimetype": "text/x-python",
   "name": "python",
   "nbconvert_exporter": "python",
   "pygments_lexer": "ipython3",
   "version": "3.12.4"
  }
 },
 "nbformat": 4,
 "nbformat_minor": 5
}
